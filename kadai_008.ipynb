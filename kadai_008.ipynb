{
  "nbformat": 4,
  "nbformat_minor": 0,
  "metadata": {
    "colab": {
      "provenance": []
    },
    "kernelspec": {
      "name": "python3",
      "display_name": "Python 3"
    },
    "language_info": {
      "name": "python"
    }
  },
  "cells": [
    {
      "cell_type": "markdown",
      "source": [
        "# 1. サンプルデータの取得"
      ],
      "metadata": {
        "id": "lzajdPvJW_eU"
      }
    },
    {
      "cell_type": "code",
      "source": [
        "# ワインの成分とワイン種別のデータを取得\n",
        "from sklearn.datasets import load_wine"
      ],
      "metadata": {
        "id": "v6lCVRRiSr2p"
      },
      "execution_count": 161,
      "outputs": []
    },
    {
      "cell_type": "code",
      "source": [
        "# 連想配列のデータを取得\n",
        "dataset = load_wine()\n",
        "dataset"
      ],
      "metadata": {
        "colab": {
          "base_uri": "https://localhost:8080/"
        },
        "id": "-9ADy_qxVWiW",
        "outputId": "1bd084c9-f801-4cda-bc69-2262023c2b03"
      },
      "execution_count": 162,
      "outputs": [
        {
          "output_type": "execute_result",
          "data": {
            "text/plain": [
              "{'data': array([[1.423e+01, 1.710e+00, 2.430e+00, ..., 1.040e+00, 3.920e+00,\n",
              "         1.065e+03],\n",
              "        [1.320e+01, 1.780e+00, 2.140e+00, ..., 1.050e+00, 3.400e+00,\n",
              "         1.050e+03],\n",
              "        [1.316e+01, 2.360e+00, 2.670e+00, ..., 1.030e+00, 3.170e+00,\n",
              "         1.185e+03],\n",
              "        ...,\n",
              "        [1.327e+01, 4.280e+00, 2.260e+00, ..., 5.900e-01, 1.560e+00,\n",
              "         8.350e+02],\n",
              "        [1.317e+01, 2.590e+00, 2.370e+00, ..., 6.000e-01, 1.620e+00,\n",
              "         8.400e+02],\n",
              "        [1.413e+01, 4.100e+00, 2.740e+00, ..., 6.100e-01, 1.600e+00,\n",
              "         5.600e+02]]),\n",
              " 'target': array([0, 0, 0, 0, 0, 0, 0, 0, 0, 0, 0, 0, 0, 0, 0, 0, 0, 0, 0, 0, 0, 0,\n",
              "        0, 0, 0, 0, 0, 0, 0, 0, 0, 0, 0, 0, 0, 0, 0, 0, 0, 0, 0, 0, 0, 0,\n",
              "        0, 0, 0, 0, 0, 0, 0, 0, 0, 0, 0, 0, 0, 0, 0, 1, 1, 1, 1, 1, 1, 1,\n",
              "        1, 1, 1, 1, 1, 1, 1, 1, 1, 1, 1, 1, 1, 1, 1, 1, 1, 1, 1, 1, 1, 1,\n",
              "        1, 1, 1, 1, 1, 1, 1, 1, 1, 1, 1, 1, 1, 1, 1, 1, 1, 1, 1, 1, 1, 1,\n",
              "        1, 1, 1, 1, 1, 1, 1, 1, 1, 1, 1, 1, 1, 1, 1, 1, 1, 1, 1, 1, 2, 2,\n",
              "        2, 2, 2, 2, 2, 2, 2, 2, 2, 2, 2, 2, 2, 2, 2, 2, 2, 2, 2, 2, 2, 2,\n",
              "        2, 2, 2, 2, 2, 2, 2, 2, 2, 2, 2, 2, 2, 2, 2, 2, 2, 2, 2, 2, 2, 2,\n",
              "        2, 2]),\n",
              " 'frame': None,\n",
              " 'target_names': array(['class_0', 'class_1', 'class_2'], dtype='<U7'),\n",
              " 'DESCR': '.. _wine_dataset:\\n\\nWine recognition dataset\\n------------------------\\n\\n**Data Set Characteristics:**\\n\\n    :Number of Instances: 178\\n    :Number of Attributes: 13 numeric, predictive attributes and the class\\n    :Attribute Information:\\n \\t\\t- Alcohol\\n \\t\\t- Malic acid\\n \\t\\t- Ash\\n\\t\\t- Alcalinity of ash  \\n \\t\\t- Magnesium\\n\\t\\t- Total phenols\\n \\t\\t- Flavanoids\\n \\t\\t- Nonflavanoid phenols\\n \\t\\t- Proanthocyanins\\n\\t\\t- Color intensity\\n \\t\\t- Hue\\n \\t\\t- OD280/OD315 of diluted wines\\n \\t\\t- Proline\\n\\n    - class:\\n            - class_0\\n            - class_1\\n            - class_2\\n\\t\\t\\n    :Summary Statistics:\\n    \\n    ============================= ==== ===== ======= =====\\n                                   Min   Max   Mean     SD\\n    ============================= ==== ===== ======= =====\\n    Alcohol:                      11.0  14.8    13.0   0.8\\n    Malic Acid:                   0.74  5.80    2.34  1.12\\n    Ash:                          1.36  3.23    2.36  0.27\\n    Alcalinity of Ash:            10.6  30.0    19.5   3.3\\n    Magnesium:                    70.0 162.0    99.7  14.3\\n    Total Phenols:                0.98  3.88    2.29  0.63\\n    Flavanoids:                   0.34  5.08    2.03  1.00\\n    Nonflavanoid Phenols:         0.13  0.66    0.36  0.12\\n    Proanthocyanins:              0.41  3.58    1.59  0.57\\n    Colour Intensity:              1.3  13.0     5.1   2.3\\n    Hue:                          0.48  1.71    0.96  0.23\\n    OD280/OD315 of diluted wines: 1.27  4.00    2.61  0.71\\n    Proline:                       278  1680     746   315\\n    ============================= ==== ===== ======= =====\\n\\n    :Missing Attribute Values: None\\n    :Class Distribution: class_0 (59), class_1 (71), class_2 (48)\\n    :Creator: R.A. Fisher\\n    :Donor: Michael Marshall (MARSHALL%PLU@io.arc.nasa.gov)\\n    :Date: July, 1988\\n\\nThis is a copy of UCI ML Wine recognition datasets.\\nhttps://archive.ics.uci.edu/ml/machine-learning-databases/wine/wine.data\\n\\nThe data is the results of a chemical analysis of wines grown in the same\\nregion in Italy by three different cultivators. There are thirteen different\\nmeasurements taken for different constituents found in the three types of\\nwine.\\n\\nOriginal Owners: \\n\\nForina, M. et al, PARVUS - \\nAn Extendible Package for Data Exploration, Classification and Correlation. \\nInstitute of Pharmaceutical and Food Analysis and Technologies,\\nVia Brigata Salerno, 16147 Genoa, Italy.\\n\\nCitation:\\n\\nLichman, M. (2013). UCI Machine Learning Repository\\n[https://archive.ics.uci.edu/ml]. Irvine, CA: University of California,\\nSchool of Information and Computer Science. \\n\\n.. topic:: References\\n\\n  (1) S. Aeberhard, D. Coomans and O. de Vel, \\n  Comparison of Classifiers in High Dimensional Settings, \\n  Tech. Rep. no. 92-02, (1992), Dept. of Computer Science and Dept. of  \\n  Mathematics and Statistics, James Cook University of North Queensland. \\n  (Also submitted to Technometrics). \\n\\n  The data was used with many others for comparing various \\n  classifiers. The classes are separable, though only RDA \\n  has achieved 100% correct classification. \\n  (RDA : 100%, QDA 99.4%, LDA 98.9%, 1NN 96.1% (z-transformed data)) \\n  (All results using the leave-one-out technique) \\n\\n  (2) S. Aeberhard, D. Coomans and O. de Vel, \\n  \"THE CLASSIFICATION PERFORMANCE OF RDA\" \\n  Tech. Rep. no. 92-01, (1992), Dept. of Computer Science and Dept. of \\n  Mathematics and Statistics, James Cook University of North Queensland. \\n  (Also submitted to Journal of Chemometrics).\\n',\n",
              " 'feature_names': ['alcohol',\n",
              "  'malic_acid',\n",
              "  'ash',\n",
              "  'alcalinity_of_ash',\n",
              "  'magnesium',\n",
              "  'total_phenols',\n",
              "  'flavanoids',\n",
              "  'nonflavanoid_phenols',\n",
              "  'proanthocyanins',\n",
              "  'color_intensity',\n",
              "  'hue',\n",
              "  'od280/od315_of_diluted_wines',\n",
              "  'proline']}"
            ]
          },
          "metadata": {},
          "execution_count": 162
        }
      ]
    },
    {
      "cell_type": "code",
      "source": [
        "# 数値データを出力\n",
        "dataset.data"
      ],
      "metadata": {
        "colab": {
          "base_uri": "https://localhost:8080/"
        },
        "id": "Z8xXECqWVYeg",
        "outputId": "c142a0fe-1eb1-4124-d7d1-a16cf3b61eb8"
      },
      "execution_count": 163,
      "outputs": [
        {
          "output_type": "execute_result",
          "data": {
            "text/plain": [
              "array([[1.423e+01, 1.710e+00, 2.430e+00, ..., 1.040e+00, 3.920e+00,\n",
              "        1.065e+03],\n",
              "       [1.320e+01, 1.780e+00, 2.140e+00, ..., 1.050e+00, 3.400e+00,\n",
              "        1.050e+03],\n",
              "       [1.316e+01, 2.360e+00, 2.670e+00, ..., 1.030e+00, 3.170e+00,\n",
              "        1.185e+03],\n",
              "       ...,\n",
              "       [1.327e+01, 4.280e+00, 2.260e+00, ..., 5.900e-01, 1.560e+00,\n",
              "        8.350e+02],\n",
              "       [1.317e+01, 2.590e+00, 2.370e+00, ..., 6.000e-01, 1.620e+00,\n",
              "        8.400e+02],\n",
              "       [1.413e+01, 4.100e+00, 2.740e+00, ..., 6.100e-01, 1.600e+00,\n",
              "        5.600e+02]])"
            ]
          },
          "metadata": {},
          "execution_count": 163
        }
      ]
    },
    {
      "cell_type": "code",
      "source": [
        "# 要素の名称を出力\n",
        "dataset.feature_names"
      ],
      "metadata": {
        "colab": {
          "base_uri": "https://localhost:8080/"
        },
        "id": "LL2nJca7VZkM",
        "outputId": "c0534d6f-01a2-4656-9f4e-7fb9635fc1bd"
      },
      "execution_count": 164,
      "outputs": [
        {
          "output_type": "execute_result",
          "data": {
            "text/plain": [
              "['alcohol',\n",
              " 'malic_acid',\n",
              " 'ash',\n",
              " 'alcalinity_of_ash',\n",
              " 'magnesium',\n",
              " 'total_phenols',\n",
              " 'flavanoids',\n",
              " 'nonflavanoid_phenols',\n",
              " 'proanthocyanins',\n",
              " 'color_intensity',\n",
              " 'hue',\n",
              " 'od280/od315_of_diluted_wines',\n",
              " 'proline']"
            ]
          },
          "metadata": {},
          "execution_count": 164
        }
      ]
    },
    {
      "cell_type": "code",
      "source": [
        "# PandasのDataFrameを利用して表示\n",
        "import pandas as pd\n",
        "df = pd.DataFrame(data=dataset.data, columns=dataset.feature_names)\n",
        "df.head()"
      ],
      "metadata": {
        "colab": {
          "base_uri": "https://localhost:8080/",
          "height": 206
        },
        "id": "sw16QEgMVZeD",
        "outputId": "25fb7a64-684b-4c57-b7ce-485895779709"
      },
      "execution_count": 165,
      "outputs": [
        {
          "output_type": "execute_result",
          "data": {
            "text/plain": [
              "   alcohol  malic_acid   ash  alcalinity_of_ash  magnesium  total_phenols  \\\n",
              "0    14.23        1.71  2.43               15.6      127.0           2.80   \n",
              "1    13.20        1.78  2.14               11.2      100.0           2.65   \n",
              "2    13.16        2.36  2.67               18.6      101.0           2.80   \n",
              "3    14.37        1.95  2.50               16.8      113.0           3.85   \n",
              "4    13.24        2.59  2.87               21.0      118.0           2.80   \n",
              "\n",
              "   flavanoids  nonflavanoid_phenols  proanthocyanins  color_intensity   hue  \\\n",
              "0        3.06                  0.28             2.29             5.64  1.04   \n",
              "1        2.76                  0.26             1.28             4.38  1.05   \n",
              "2        3.24                  0.30             2.81             5.68  1.03   \n",
              "3        3.49                  0.24             2.18             7.80  0.86   \n",
              "4        2.69                  0.39             1.82             4.32  1.04   \n",
              "\n",
              "   od280/od315_of_diluted_wines  proline  \n",
              "0                          3.92   1065.0  \n",
              "1                          3.40   1050.0  \n",
              "2                          3.17   1185.0  \n",
              "3                          3.45   1480.0  \n",
              "4                          2.93    735.0  "
            ],
            "text/html": [
              "\n",
              "  <div id=\"df-4c08feec-8ee8-482d-a9ff-67d9962df7ef\" class=\"colab-df-container\">\n",
              "    <div>\n",
              "<style scoped>\n",
              "    .dataframe tbody tr th:only-of-type {\n",
              "        vertical-align: middle;\n",
              "    }\n",
              "\n",
              "    .dataframe tbody tr th {\n",
              "        vertical-align: top;\n",
              "    }\n",
              "\n",
              "    .dataframe thead th {\n",
              "        text-align: right;\n",
              "    }\n",
              "</style>\n",
              "<table border=\"1\" class=\"dataframe\">\n",
              "  <thead>\n",
              "    <tr style=\"text-align: right;\">\n",
              "      <th></th>\n",
              "      <th>alcohol</th>\n",
              "      <th>malic_acid</th>\n",
              "      <th>ash</th>\n",
              "      <th>alcalinity_of_ash</th>\n",
              "      <th>magnesium</th>\n",
              "      <th>total_phenols</th>\n",
              "      <th>flavanoids</th>\n",
              "      <th>nonflavanoid_phenols</th>\n",
              "      <th>proanthocyanins</th>\n",
              "      <th>color_intensity</th>\n",
              "      <th>hue</th>\n",
              "      <th>od280/od315_of_diluted_wines</th>\n",
              "      <th>proline</th>\n",
              "    </tr>\n",
              "  </thead>\n",
              "  <tbody>\n",
              "    <tr>\n",
              "      <th>0</th>\n",
              "      <td>14.23</td>\n",
              "      <td>1.71</td>\n",
              "      <td>2.43</td>\n",
              "      <td>15.6</td>\n",
              "      <td>127.0</td>\n",
              "      <td>2.80</td>\n",
              "      <td>3.06</td>\n",
              "      <td>0.28</td>\n",
              "      <td>2.29</td>\n",
              "      <td>5.64</td>\n",
              "      <td>1.04</td>\n",
              "      <td>3.92</td>\n",
              "      <td>1065.0</td>\n",
              "    </tr>\n",
              "    <tr>\n",
              "      <th>1</th>\n",
              "      <td>13.20</td>\n",
              "      <td>1.78</td>\n",
              "      <td>2.14</td>\n",
              "      <td>11.2</td>\n",
              "      <td>100.0</td>\n",
              "      <td>2.65</td>\n",
              "      <td>2.76</td>\n",
              "      <td>0.26</td>\n",
              "      <td>1.28</td>\n",
              "      <td>4.38</td>\n",
              "      <td>1.05</td>\n",
              "      <td>3.40</td>\n",
              "      <td>1050.0</td>\n",
              "    </tr>\n",
              "    <tr>\n",
              "      <th>2</th>\n",
              "      <td>13.16</td>\n",
              "      <td>2.36</td>\n",
              "      <td>2.67</td>\n",
              "      <td>18.6</td>\n",
              "      <td>101.0</td>\n",
              "      <td>2.80</td>\n",
              "      <td>3.24</td>\n",
              "      <td>0.30</td>\n",
              "      <td>2.81</td>\n",
              "      <td>5.68</td>\n",
              "      <td>1.03</td>\n",
              "      <td>3.17</td>\n",
              "      <td>1185.0</td>\n",
              "    </tr>\n",
              "    <tr>\n",
              "      <th>3</th>\n",
              "      <td>14.37</td>\n",
              "      <td>1.95</td>\n",
              "      <td>2.50</td>\n",
              "      <td>16.8</td>\n",
              "      <td>113.0</td>\n",
              "      <td>3.85</td>\n",
              "      <td>3.49</td>\n",
              "      <td>0.24</td>\n",
              "      <td>2.18</td>\n",
              "      <td>7.80</td>\n",
              "      <td>0.86</td>\n",
              "      <td>3.45</td>\n",
              "      <td>1480.0</td>\n",
              "    </tr>\n",
              "    <tr>\n",
              "      <th>4</th>\n",
              "      <td>13.24</td>\n",
              "      <td>2.59</td>\n",
              "      <td>2.87</td>\n",
              "      <td>21.0</td>\n",
              "      <td>118.0</td>\n",
              "      <td>2.80</td>\n",
              "      <td>2.69</td>\n",
              "      <td>0.39</td>\n",
              "      <td>1.82</td>\n",
              "      <td>4.32</td>\n",
              "      <td>1.04</td>\n",
              "      <td>2.93</td>\n",
              "      <td>735.0</td>\n",
              "    </tr>\n",
              "  </tbody>\n",
              "</table>\n",
              "</div>\n",
              "    <div class=\"colab-df-buttons\">\n",
              "\n",
              "  <div class=\"colab-df-container\">\n",
              "    <button class=\"colab-df-convert\" onclick=\"convertToInteractive('df-4c08feec-8ee8-482d-a9ff-67d9962df7ef')\"\n",
              "            title=\"Convert this dataframe to an interactive table.\"\n",
              "            style=\"display:none;\">\n",
              "\n",
              "  <svg xmlns=\"http://www.w3.org/2000/svg\" height=\"24px\" viewBox=\"0 -960 960 960\">\n",
              "    <path d=\"M120-120v-720h720v720H120Zm60-500h600v-160H180v160Zm220 220h160v-160H400v160Zm0 220h160v-160H400v160ZM180-400h160v-160H180v160Zm440 0h160v-160H620v160ZM180-180h160v-160H180v160Zm440 0h160v-160H620v160Z\"/>\n",
              "  </svg>\n",
              "    </button>\n",
              "\n",
              "  <style>\n",
              "    .colab-df-container {\n",
              "      display:flex;\n",
              "      gap: 12px;\n",
              "    }\n",
              "\n",
              "    .colab-df-convert {\n",
              "      background-color: #E8F0FE;\n",
              "      border: none;\n",
              "      border-radius: 50%;\n",
              "      cursor: pointer;\n",
              "      display: none;\n",
              "      fill: #1967D2;\n",
              "      height: 32px;\n",
              "      padding: 0 0 0 0;\n",
              "      width: 32px;\n",
              "    }\n",
              "\n",
              "    .colab-df-convert:hover {\n",
              "      background-color: #E2EBFA;\n",
              "      box-shadow: 0px 1px 2px rgba(60, 64, 67, 0.3), 0px 1px 3px 1px rgba(60, 64, 67, 0.15);\n",
              "      fill: #174EA6;\n",
              "    }\n",
              "\n",
              "    .colab-df-buttons div {\n",
              "      margin-bottom: 4px;\n",
              "    }\n",
              "\n",
              "    [theme=dark] .colab-df-convert {\n",
              "      background-color: #3B4455;\n",
              "      fill: #D2E3FC;\n",
              "    }\n",
              "\n",
              "    [theme=dark] .colab-df-convert:hover {\n",
              "      background-color: #434B5C;\n",
              "      box-shadow: 0px 1px 3px 1px rgba(0, 0, 0, 0.15);\n",
              "      filter: drop-shadow(0px 1px 2px rgba(0, 0, 0, 0.3));\n",
              "      fill: #FFFFFF;\n",
              "    }\n",
              "  </style>\n",
              "\n",
              "    <script>\n",
              "      const buttonEl =\n",
              "        document.querySelector('#df-4c08feec-8ee8-482d-a9ff-67d9962df7ef button.colab-df-convert');\n",
              "      buttonEl.style.display =\n",
              "        google.colab.kernel.accessAllowed ? 'block' : 'none';\n",
              "\n",
              "      async function convertToInteractive(key) {\n",
              "        const element = document.querySelector('#df-4c08feec-8ee8-482d-a9ff-67d9962df7ef');\n",
              "        const dataTable =\n",
              "          await google.colab.kernel.invokeFunction('convertToInteractive',\n",
              "                                                    [key], {});\n",
              "        if (!dataTable) return;\n",
              "\n",
              "        const docLinkHtml = 'Like what you see? Visit the ' +\n",
              "          '<a target=\"_blank\" href=https://colab.research.google.com/notebooks/data_table.ipynb>data table notebook</a>'\n",
              "          + ' to learn more about interactive tables.';\n",
              "        element.innerHTML = '';\n",
              "        dataTable['output_type'] = 'display_data';\n",
              "        await google.colab.output.renderOutput(dataTable, element);\n",
              "        const docLink = document.createElement('div');\n",
              "        docLink.innerHTML = docLinkHtml;\n",
              "        element.appendChild(docLink);\n",
              "      }\n",
              "    </script>\n",
              "  </div>\n",
              "\n",
              "\n",
              "<div id=\"df-0b920aab-0ce8-4b9d-aa1c-d80420ee22f5\">\n",
              "  <button class=\"colab-df-quickchart\" onclick=\"quickchart('df-0b920aab-0ce8-4b9d-aa1c-d80420ee22f5')\"\n",
              "            title=\"Suggest charts\"\n",
              "            style=\"display:none;\">\n",
              "\n",
              "<svg xmlns=\"http://www.w3.org/2000/svg\" height=\"24px\"viewBox=\"0 0 24 24\"\n",
              "     width=\"24px\">\n",
              "    <g>\n",
              "        <path d=\"M19 3H5c-1.1 0-2 .9-2 2v14c0 1.1.9 2 2 2h14c1.1 0 2-.9 2-2V5c0-1.1-.9-2-2-2zM9 17H7v-7h2v7zm4 0h-2V7h2v10zm4 0h-2v-4h2v4z\"/>\n",
              "    </g>\n",
              "</svg>\n",
              "  </button>\n",
              "\n",
              "<style>\n",
              "  .colab-df-quickchart {\n",
              "      --bg-color: #E8F0FE;\n",
              "      --fill-color: #1967D2;\n",
              "      --hover-bg-color: #E2EBFA;\n",
              "      --hover-fill-color: #174EA6;\n",
              "      --disabled-fill-color: #AAA;\n",
              "      --disabled-bg-color: #DDD;\n",
              "  }\n",
              "\n",
              "  [theme=dark] .colab-df-quickchart {\n",
              "      --bg-color: #3B4455;\n",
              "      --fill-color: #D2E3FC;\n",
              "      --hover-bg-color: #434B5C;\n",
              "      --hover-fill-color: #FFFFFF;\n",
              "      --disabled-bg-color: #3B4455;\n",
              "      --disabled-fill-color: #666;\n",
              "  }\n",
              "\n",
              "  .colab-df-quickchart {\n",
              "    background-color: var(--bg-color);\n",
              "    border: none;\n",
              "    border-radius: 50%;\n",
              "    cursor: pointer;\n",
              "    display: none;\n",
              "    fill: var(--fill-color);\n",
              "    height: 32px;\n",
              "    padding: 0;\n",
              "    width: 32px;\n",
              "  }\n",
              "\n",
              "  .colab-df-quickchart:hover {\n",
              "    background-color: var(--hover-bg-color);\n",
              "    box-shadow: 0 1px 2px rgba(60, 64, 67, 0.3), 0 1px 3px 1px rgba(60, 64, 67, 0.15);\n",
              "    fill: var(--button-hover-fill-color);\n",
              "  }\n",
              "\n",
              "  .colab-df-quickchart-complete:disabled,\n",
              "  .colab-df-quickchart-complete:disabled:hover {\n",
              "    background-color: var(--disabled-bg-color);\n",
              "    fill: var(--disabled-fill-color);\n",
              "    box-shadow: none;\n",
              "  }\n",
              "\n",
              "  .colab-df-spinner {\n",
              "    border: 2px solid var(--fill-color);\n",
              "    border-color: transparent;\n",
              "    border-bottom-color: var(--fill-color);\n",
              "    animation:\n",
              "      spin 1s steps(1) infinite;\n",
              "  }\n",
              "\n",
              "  @keyframes spin {\n",
              "    0% {\n",
              "      border-color: transparent;\n",
              "      border-bottom-color: var(--fill-color);\n",
              "      border-left-color: var(--fill-color);\n",
              "    }\n",
              "    20% {\n",
              "      border-color: transparent;\n",
              "      border-left-color: var(--fill-color);\n",
              "      border-top-color: var(--fill-color);\n",
              "    }\n",
              "    30% {\n",
              "      border-color: transparent;\n",
              "      border-left-color: var(--fill-color);\n",
              "      border-top-color: var(--fill-color);\n",
              "      border-right-color: var(--fill-color);\n",
              "    }\n",
              "    40% {\n",
              "      border-color: transparent;\n",
              "      border-right-color: var(--fill-color);\n",
              "      border-top-color: var(--fill-color);\n",
              "    }\n",
              "    60% {\n",
              "      border-color: transparent;\n",
              "      border-right-color: var(--fill-color);\n",
              "    }\n",
              "    80% {\n",
              "      border-color: transparent;\n",
              "      border-right-color: var(--fill-color);\n",
              "      border-bottom-color: var(--fill-color);\n",
              "    }\n",
              "    90% {\n",
              "      border-color: transparent;\n",
              "      border-bottom-color: var(--fill-color);\n",
              "    }\n",
              "  }\n",
              "</style>\n",
              "\n",
              "  <script>\n",
              "    async function quickchart(key) {\n",
              "      const quickchartButtonEl =\n",
              "        document.querySelector('#' + key + ' button');\n",
              "      quickchartButtonEl.disabled = true;  // To prevent multiple clicks.\n",
              "      quickchartButtonEl.classList.add('colab-df-spinner');\n",
              "      try {\n",
              "        const charts = await google.colab.kernel.invokeFunction(\n",
              "            'suggestCharts', [key], {});\n",
              "      } catch (error) {\n",
              "        console.error('Error during call to suggestCharts:', error);\n",
              "      }\n",
              "      quickchartButtonEl.classList.remove('colab-df-spinner');\n",
              "      quickchartButtonEl.classList.add('colab-df-quickchart-complete');\n",
              "    }\n",
              "    (() => {\n",
              "      let quickchartButtonEl =\n",
              "        document.querySelector('#df-0b920aab-0ce8-4b9d-aa1c-d80420ee22f5 button');\n",
              "      quickchartButtonEl.style.display =\n",
              "        google.colab.kernel.accessAllowed ? 'block' : 'none';\n",
              "    })();\n",
              "  </script>\n",
              "</div>\n",
              "    </div>\n",
              "  </div>\n"
            ]
          },
          "metadata": {},
          "execution_count": 165
        }
      ]
    },
    {
      "cell_type": "code",
      "source": [
        "# ワインの種別を確認\n",
        "dataset.target"
      ],
      "metadata": {
        "colab": {
          "base_uri": "https://localhost:8080/"
        },
        "id": "8dp-iOyfVc79",
        "outputId": "53e54eea-78a0-4f94-81cd-7987b72505cc"
      },
      "execution_count": 166,
      "outputs": [
        {
          "output_type": "execute_result",
          "data": {
            "text/plain": [
              "array([0, 0, 0, 0, 0, 0, 0, 0, 0, 0, 0, 0, 0, 0, 0, 0, 0, 0, 0, 0, 0, 0,\n",
              "       0, 0, 0, 0, 0, 0, 0, 0, 0, 0, 0, 0, 0, 0, 0, 0, 0, 0, 0, 0, 0, 0,\n",
              "       0, 0, 0, 0, 0, 0, 0, 0, 0, 0, 0, 0, 0, 0, 0, 1, 1, 1, 1, 1, 1, 1,\n",
              "       1, 1, 1, 1, 1, 1, 1, 1, 1, 1, 1, 1, 1, 1, 1, 1, 1, 1, 1, 1, 1, 1,\n",
              "       1, 1, 1, 1, 1, 1, 1, 1, 1, 1, 1, 1, 1, 1, 1, 1, 1, 1, 1, 1, 1, 1,\n",
              "       1, 1, 1, 1, 1, 1, 1, 1, 1, 1, 1, 1, 1, 1, 1, 1, 1, 1, 1, 1, 2, 2,\n",
              "       2, 2, 2, 2, 2, 2, 2, 2, 2, 2, 2, 2, 2, 2, 2, 2, 2, 2, 2, 2, 2, 2,\n",
              "       2, 2, 2, 2, 2, 2, 2, 2, 2, 2, 2, 2, 2, 2, 2, 2, 2, 2, 2, 2, 2, 2,\n",
              "       2, 2])"
            ]
          },
          "metadata": {},
          "execution_count": 166
        }
      ]
    },
    {
      "cell_type": "code",
      "source": [
        "# ワインの成分を表示させたDataFrameに、ワインの種別も追加\n",
        "# 要素名は「category」とする\n",
        "df['category'] = dataset.target\n",
        "df.head()"
      ],
      "metadata": {
        "colab": {
          "base_uri": "https://localhost:8080/",
          "height": 206
        },
        "id": "4lYrnXpdWPAN",
        "outputId": "dd272838-57d6-48ae-cef8-a2f19c49f2c0"
      },
      "execution_count": 167,
      "outputs": [
        {
          "output_type": "execute_result",
          "data": {
            "text/plain": [
              "   alcohol  malic_acid   ash  alcalinity_of_ash  magnesium  total_phenols  \\\n",
              "0    14.23        1.71  2.43               15.6      127.0           2.80   \n",
              "1    13.20        1.78  2.14               11.2      100.0           2.65   \n",
              "2    13.16        2.36  2.67               18.6      101.0           2.80   \n",
              "3    14.37        1.95  2.50               16.8      113.0           3.85   \n",
              "4    13.24        2.59  2.87               21.0      118.0           2.80   \n",
              "\n",
              "   flavanoids  nonflavanoid_phenols  proanthocyanins  color_intensity   hue  \\\n",
              "0        3.06                  0.28             2.29             5.64  1.04   \n",
              "1        2.76                  0.26             1.28             4.38  1.05   \n",
              "2        3.24                  0.30             2.81             5.68  1.03   \n",
              "3        3.49                  0.24             2.18             7.80  0.86   \n",
              "4        2.69                  0.39             1.82             4.32  1.04   \n",
              "\n",
              "   od280/od315_of_diluted_wines  proline  category  \n",
              "0                          3.92   1065.0         0  \n",
              "1                          3.40   1050.0         0  \n",
              "2                          3.17   1185.0         0  \n",
              "3                          3.45   1480.0         0  \n",
              "4                          2.93    735.0         0  "
            ],
            "text/html": [
              "\n",
              "  <div id=\"df-5b02692e-d7dc-4a25-ac67-f707ec35b1e9\" class=\"colab-df-container\">\n",
              "    <div>\n",
              "<style scoped>\n",
              "    .dataframe tbody tr th:only-of-type {\n",
              "        vertical-align: middle;\n",
              "    }\n",
              "\n",
              "    .dataframe tbody tr th {\n",
              "        vertical-align: top;\n",
              "    }\n",
              "\n",
              "    .dataframe thead th {\n",
              "        text-align: right;\n",
              "    }\n",
              "</style>\n",
              "<table border=\"1\" class=\"dataframe\">\n",
              "  <thead>\n",
              "    <tr style=\"text-align: right;\">\n",
              "      <th></th>\n",
              "      <th>alcohol</th>\n",
              "      <th>malic_acid</th>\n",
              "      <th>ash</th>\n",
              "      <th>alcalinity_of_ash</th>\n",
              "      <th>magnesium</th>\n",
              "      <th>total_phenols</th>\n",
              "      <th>flavanoids</th>\n",
              "      <th>nonflavanoid_phenols</th>\n",
              "      <th>proanthocyanins</th>\n",
              "      <th>color_intensity</th>\n",
              "      <th>hue</th>\n",
              "      <th>od280/od315_of_diluted_wines</th>\n",
              "      <th>proline</th>\n",
              "      <th>category</th>\n",
              "    </tr>\n",
              "  </thead>\n",
              "  <tbody>\n",
              "    <tr>\n",
              "      <th>0</th>\n",
              "      <td>14.23</td>\n",
              "      <td>1.71</td>\n",
              "      <td>2.43</td>\n",
              "      <td>15.6</td>\n",
              "      <td>127.0</td>\n",
              "      <td>2.80</td>\n",
              "      <td>3.06</td>\n",
              "      <td>0.28</td>\n",
              "      <td>2.29</td>\n",
              "      <td>5.64</td>\n",
              "      <td>1.04</td>\n",
              "      <td>3.92</td>\n",
              "      <td>1065.0</td>\n",
              "      <td>0</td>\n",
              "    </tr>\n",
              "    <tr>\n",
              "      <th>1</th>\n",
              "      <td>13.20</td>\n",
              "      <td>1.78</td>\n",
              "      <td>2.14</td>\n",
              "      <td>11.2</td>\n",
              "      <td>100.0</td>\n",
              "      <td>2.65</td>\n",
              "      <td>2.76</td>\n",
              "      <td>0.26</td>\n",
              "      <td>1.28</td>\n",
              "      <td>4.38</td>\n",
              "      <td>1.05</td>\n",
              "      <td>3.40</td>\n",
              "      <td>1050.0</td>\n",
              "      <td>0</td>\n",
              "    </tr>\n",
              "    <tr>\n",
              "      <th>2</th>\n",
              "      <td>13.16</td>\n",
              "      <td>2.36</td>\n",
              "      <td>2.67</td>\n",
              "      <td>18.6</td>\n",
              "      <td>101.0</td>\n",
              "      <td>2.80</td>\n",
              "      <td>3.24</td>\n",
              "      <td>0.30</td>\n",
              "      <td>2.81</td>\n",
              "      <td>5.68</td>\n",
              "      <td>1.03</td>\n",
              "      <td>3.17</td>\n",
              "      <td>1185.0</td>\n",
              "      <td>0</td>\n",
              "    </tr>\n",
              "    <tr>\n",
              "      <th>3</th>\n",
              "      <td>14.37</td>\n",
              "      <td>1.95</td>\n",
              "      <td>2.50</td>\n",
              "      <td>16.8</td>\n",
              "      <td>113.0</td>\n",
              "      <td>3.85</td>\n",
              "      <td>3.49</td>\n",
              "      <td>0.24</td>\n",
              "      <td>2.18</td>\n",
              "      <td>7.80</td>\n",
              "      <td>0.86</td>\n",
              "      <td>3.45</td>\n",
              "      <td>1480.0</td>\n",
              "      <td>0</td>\n",
              "    </tr>\n",
              "    <tr>\n",
              "      <th>4</th>\n",
              "      <td>13.24</td>\n",
              "      <td>2.59</td>\n",
              "      <td>2.87</td>\n",
              "      <td>21.0</td>\n",
              "      <td>118.0</td>\n",
              "      <td>2.80</td>\n",
              "      <td>2.69</td>\n",
              "      <td>0.39</td>\n",
              "      <td>1.82</td>\n",
              "      <td>4.32</td>\n",
              "      <td>1.04</td>\n",
              "      <td>2.93</td>\n",
              "      <td>735.0</td>\n",
              "      <td>0</td>\n",
              "    </tr>\n",
              "  </tbody>\n",
              "</table>\n",
              "</div>\n",
              "    <div class=\"colab-df-buttons\">\n",
              "\n",
              "  <div class=\"colab-df-container\">\n",
              "    <button class=\"colab-df-convert\" onclick=\"convertToInteractive('df-5b02692e-d7dc-4a25-ac67-f707ec35b1e9')\"\n",
              "            title=\"Convert this dataframe to an interactive table.\"\n",
              "            style=\"display:none;\">\n",
              "\n",
              "  <svg xmlns=\"http://www.w3.org/2000/svg\" height=\"24px\" viewBox=\"0 -960 960 960\">\n",
              "    <path d=\"M120-120v-720h720v720H120Zm60-500h600v-160H180v160Zm220 220h160v-160H400v160Zm0 220h160v-160H400v160ZM180-400h160v-160H180v160Zm440 0h160v-160H620v160ZM180-180h160v-160H180v160Zm440 0h160v-160H620v160Z\"/>\n",
              "  </svg>\n",
              "    </button>\n",
              "\n",
              "  <style>\n",
              "    .colab-df-container {\n",
              "      display:flex;\n",
              "      gap: 12px;\n",
              "    }\n",
              "\n",
              "    .colab-df-convert {\n",
              "      background-color: #E8F0FE;\n",
              "      border: none;\n",
              "      border-radius: 50%;\n",
              "      cursor: pointer;\n",
              "      display: none;\n",
              "      fill: #1967D2;\n",
              "      height: 32px;\n",
              "      padding: 0 0 0 0;\n",
              "      width: 32px;\n",
              "    }\n",
              "\n",
              "    .colab-df-convert:hover {\n",
              "      background-color: #E2EBFA;\n",
              "      box-shadow: 0px 1px 2px rgba(60, 64, 67, 0.3), 0px 1px 3px 1px rgba(60, 64, 67, 0.15);\n",
              "      fill: #174EA6;\n",
              "    }\n",
              "\n",
              "    .colab-df-buttons div {\n",
              "      margin-bottom: 4px;\n",
              "    }\n",
              "\n",
              "    [theme=dark] .colab-df-convert {\n",
              "      background-color: #3B4455;\n",
              "      fill: #D2E3FC;\n",
              "    }\n",
              "\n",
              "    [theme=dark] .colab-df-convert:hover {\n",
              "      background-color: #434B5C;\n",
              "      box-shadow: 0px 1px 3px 1px rgba(0, 0, 0, 0.15);\n",
              "      filter: drop-shadow(0px 1px 2px rgba(0, 0, 0, 0.3));\n",
              "      fill: #FFFFFF;\n",
              "    }\n",
              "  </style>\n",
              "\n",
              "    <script>\n",
              "      const buttonEl =\n",
              "        document.querySelector('#df-5b02692e-d7dc-4a25-ac67-f707ec35b1e9 button.colab-df-convert');\n",
              "      buttonEl.style.display =\n",
              "        google.colab.kernel.accessAllowed ? 'block' : 'none';\n",
              "\n",
              "      async function convertToInteractive(key) {\n",
              "        const element = document.querySelector('#df-5b02692e-d7dc-4a25-ac67-f707ec35b1e9');\n",
              "        const dataTable =\n",
              "          await google.colab.kernel.invokeFunction('convertToInteractive',\n",
              "                                                    [key], {});\n",
              "        if (!dataTable) return;\n",
              "\n",
              "        const docLinkHtml = 'Like what you see? Visit the ' +\n",
              "          '<a target=\"_blank\" href=https://colab.research.google.com/notebooks/data_table.ipynb>data table notebook</a>'\n",
              "          + ' to learn more about interactive tables.';\n",
              "        element.innerHTML = '';\n",
              "        dataTable['output_type'] = 'display_data';\n",
              "        await google.colab.output.renderOutput(dataTable, element);\n",
              "        const docLink = document.createElement('div');\n",
              "        docLink.innerHTML = docLinkHtml;\n",
              "        element.appendChild(docLink);\n",
              "      }\n",
              "    </script>\n",
              "  </div>\n",
              "\n",
              "\n",
              "<div id=\"df-d268bf94-cd97-4cc5-a52e-c5c76e995d73\">\n",
              "  <button class=\"colab-df-quickchart\" onclick=\"quickchart('df-d268bf94-cd97-4cc5-a52e-c5c76e995d73')\"\n",
              "            title=\"Suggest charts\"\n",
              "            style=\"display:none;\">\n",
              "\n",
              "<svg xmlns=\"http://www.w3.org/2000/svg\" height=\"24px\"viewBox=\"0 0 24 24\"\n",
              "     width=\"24px\">\n",
              "    <g>\n",
              "        <path d=\"M19 3H5c-1.1 0-2 .9-2 2v14c0 1.1.9 2 2 2h14c1.1 0 2-.9 2-2V5c0-1.1-.9-2-2-2zM9 17H7v-7h2v7zm4 0h-2V7h2v10zm4 0h-2v-4h2v4z\"/>\n",
              "    </g>\n",
              "</svg>\n",
              "  </button>\n",
              "\n",
              "<style>\n",
              "  .colab-df-quickchart {\n",
              "      --bg-color: #E8F0FE;\n",
              "      --fill-color: #1967D2;\n",
              "      --hover-bg-color: #E2EBFA;\n",
              "      --hover-fill-color: #174EA6;\n",
              "      --disabled-fill-color: #AAA;\n",
              "      --disabled-bg-color: #DDD;\n",
              "  }\n",
              "\n",
              "  [theme=dark] .colab-df-quickchart {\n",
              "      --bg-color: #3B4455;\n",
              "      --fill-color: #D2E3FC;\n",
              "      --hover-bg-color: #434B5C;\n",
              "      --hover-fill-color: #FFFFFF;\n",
              "      --disabled-bg-color: #3B4455;\n",
              "      --disabled-fill-color: #666;\n",
              "  }\n",
              "\n",
              "  .colab-df-quickchart {\n",
              "    background-color: var(--bg-color);\n",
              "    border: none;\n",
              "    border-radius: 50%;\n",
              "    cursor: pointer;\n",
              "    display: none;\n",
              "    fill: var(--fill-color);\n",
              "    height: 32px;\n",
              "    padding: 0;\n",
              "    width: 32px;\n",
              "  }\n",
              "\n",
              "  .colab-df-quickchart:hover {\n",
              "    background-color: var(--hover-bg-color);\n",
              "    box-shadow: 0 1px 2px rgba(60, 64, 67, 0.3), 0 1px 3px 1px rgba(60, 64, 67, 0.15);\n",
              "    fill: var(--button-hover-fill-color);\n",
              "  }\n",
              "\n",
              "  .colab-df-quickchart-complete:disabled,\n",
              "  .colab-df-quickchart-complete:disabled:hover {\n",
              "    background-color: var(--disabled-bg-color);\n",
              "    fill: var(--disabled-fill-color);\n",
              "    box-shadow: none;\n",
              "  }\n",
              "\n",
              "  .colab-df-spinner {\n",
              "    border: 2px solid var(--fill-color);\n",
              "    border-color: transparent;\n",
              "    border-bottom-color: var(--fill-color);\n",
              "    animation:\n",
              "      spin 1s steps(1) infinite;\n",
              "  }\n",
              "\n",
              "  @keyframes spin {\n",
              "    0% {\n",
              "      border-color: transparent;\n",
              "      border-bottom-color: var(--fill-color);\n",
              "      border-left-color: var(--fill-color);\n",
              "    }\n",
              "    20% {\n",
              "      border-color: transparent;\n",
              "      border-left-color: var(--fill-color);\n",
              "      border-top-color: var(--fill-color);\n",
              "    }\n",
              "    30% {\n",
              "      border-color: transparent;\n",
              "      border-left-color: var(--fill-color);\n",
              "      border-top-color: var(--fill-color);\n",
              "      border-right-color: var(--fill-color);\n",
              "    }\n",
              "    40% {\n",
              "      border-color: transparent;\n",
              "      border-right-color: var(--fill-color);\n",
              "      border-top-color: var(--fill-color);\n",
              "    }\n",
              "    60% {\n",
              "      border-color: transparent;\n",
              "      border-right-color: var(--fill-color);\n",
              "    }\n",
              "    80% {\n",
              "      border-color: transparent;\n",
              "      border-right-color: var(--fill-color);\n",
              "      border-bottom-color: var(--fill-color);\n",
              "    }\n",
              "    90% {\n",
              "      border-color: transparent;\n",
              "      border-bottom-color: var(--fill-color);\n",
              "    }\n",
              "  }\n",
              "</style>\n",
              "\n",
              "  <script>\n",
              "    async function quickchart(key) {\n",
              "      const quickchartButtonEl =\n",
              "        document.querySelector('#' + key + ' button');\n",
              "      quickchartButtonEl.disabled = true;  // To prevent multiple clicks.\n",
              "      quickchartButtonEl.classList.add('colab-df-spinner');\n",
              "      try {\n",
              "        const charts = await google.colab.kernel.invokeFunction(\n",
              "            'suggestCharts', [key], {});\n",
              "      } catch (error) {\n",
              "        console.error('Error during call to suggestCharts:', error);\n",
              "      }\n",
              "      quickchartButtonEl.classList.remove('colab-df-spinner');\n",
              "      quickchartButtonEl.classList.add('colab-df-quickchart-complete');\n",
              "    }\n",
              "    (() => {\n",
              "      let quickchartButtonEl =\n",
              "        document.querySelector('#df-d268bf94-cd97-4cc5-a52e-c5c76e995d73 button');\n",
              "      quickchartButtonEl.style.display =\n",
              "        google.colab.kernel.accessAllowed ? 'block' : 'none';\n",
              "    })();\n",
              "  </script>\n",
              "</div>\n",
              "    </div>\n",
              "  </div>\n"
            ]
          },
          "metadata": {},
          "execution_count": 167
        }
      ]
    },
    {
      "cell_type": "code",
      "source": [
        "# データ数を確認\n",
        "df.shape"
      ],
      "metadata": {
        "colab": {
          "base_uri": "https://localhost:8080/"
        },
        "id": "-Tg0l0d-VhEp",
        "outputId": "c9d5f0db-4a9c-4bed-8fde-3fcb38406aa9"
      },
      "execution_count": 168,
      "outputs": [
        {
          "output_type": "execute_result",
          "data": {
            "text/plain": [
              "(178, 14)"
            ]
          },
          "metadata": {},
          "execution_count": 168
        }
      ]
    },
    {
      "cell_type": "markdown",
      "source": [
        "# 2. サンプルデータの分割"
      ],
      "metadata": {
        "id": "pc_oV18IXKB0"
      }
    },
    {
      "cell_type": "code",
      "source": [
        "# 説明変数（ワインの成分）を変数Xに、目的変数（ワインの種別）を変数yに代入\n",
        "X = dataset.data\n",
        "y = dataset.target"
      ],
      "metadata": {
        "id": "b1QsLiFUXLwo"
      },
      "execution_count": 169,
      "outputs": []
    },
    {
      "cell_type": "code",
      "source": [
        "# train_test_split関数をインポート\n",
        "from sklearn.model_selection import train_test_split"
      ],
      "metadata": {
        "id": "WEoz6dq3XPo3"
      },
      "execution_count": 170,
      "outputs": []
    },
    {
      "cell_type": "code",
      "source": [
        "# scikit-learnを正しく活用できているかチェックできるように、random_stateを指定\n",
        "train_test_split(X, y, test_size=0.3, random_state=5)\n",
        "# 以下のようにrandom_stateを指定しない場合、実行毎に結果が異なります。\n",
        "# train_test_split(X, y, test_size=0.3)"
      ],
      "metadata": {
        "colab": {
          "base_uri": "https://localhost:8080/"
        },
        "id": "-ayATOI9Xkba",
        "outputId": "da3a2936-5171-4591-d5bb-a9bfef588add"
      },
      "execution_count": 171,
      "outputs": [
        {
          "output_type": "execute_result",
          "data": {
            "text/plain": [
              "[array([[1.358e+01, 2.580e+00, 2.690e+00, ..., 7.400e-01, 1.800e+00,\n",
              "         7.500e+02],\n",
              "        [1.234e+01, 2.450e+00, 2.460e+00, ..., 8.000e-01, 3.380e+00,\n",
              "         4.380e+02],\n",
              "        [1.285e+01, 3.270e+00, 2.580e+00, ..., 8.700e-01, 2.110e+00,\n",
              "         5.700e+02],\n",
              "        ...,\n",
              "        [1.225e+01, 3.880e+00, 2.200e+00, ..., 6.500e-01, 2.000e+00,\n",
              "         8.550e+02],\n",
              "        [1.277e+01, 3.430e+00, 1.980e+00, ..., 7.000e-01, 2.120e+00,\n",
              "         3.720e+02],\n",
              "        [1.229e+01, 3.170e+00, 2.210e+00, ..., 1.420e+00, 2.830e+00,\n",
              "         4.060e+02]]),\n",
              " array([[1.387000e+01, 1.900000e+00, 2.800000e+00, 1.940000e+01,\n",
              "         1.070000e+02, 2.950000e+00, 2.970000e+00, 3.700000e-01,\n",
              "         1.760000e+00, 4.500000e+00, 1.250000e+00, 3.400000e+00,\n",
              "         9.150000e+02],\n",
              "        [1.311000e+01, 1.010000e+00, 1.700000e+00, 1.500000e+01,\n",
              "         7.800000e+01, 2.980000e+00, 3.180000e+00, 2.600000e-01,\n",
              "         2.280000e+00, 5.300000e+00, 1.120000e+00, 3.180000e+00,\n",
              "         5.020000e+02],\n",
              "        [1.437000e+01, 1.950000e+00, 2.500000e+00, 1.680000e+01,\n",
              "         1.130000e+02, 3.850000e+00, 3.490000e+00, 2.400000e-01,\n",
              "         2.180000e+00, 7.800000e+00, 8.600000e-01, 3.450000e+00,\n",
              "         1.480000e+03],\n",
              "        [1.383000e+01, 1.570000e+00, 2.620000e+00, 2.000000e+01,\n",
              "         1.150000e+02, 2.950000e+00, 3.400000e+00, 4.000000e-01,\n",
              "         1.720000e+00, 6.600000e+00, 1.130000e+00, 2.570000e+00,\n",
              "         1.130000e+03],\n",
              "        [1.349000e+01, 3.590000e+00, 2.190000e+00, 1.950000e+01,\n",
              "         8.800000e+01, 1.620000e+00, 4.800000e-01, 5.800000e-01,\n",
              "         8.800000e-01, 5.700000e+00, 8.100000e-01, 1.820000e+00,\n",
              "         5.800000e+02],\n",
              "        [1.345000e+01, 3.700000e+00, 2.600000e+00, 2.300000e+01,\n",
              "         1.110000e+02, 1.700000e+00, 9.200000e-01, 4.300000e-01,\n",
              "         1.460000e+00, 1.068000e+01, 8.500000e-01, 1.560000e+00,\n",
              "         6.950000e+02],\n",
              "        [1.410000e+01, 2.020000e+00, 2.400000e+00, 1.880000e+01,\n",
              "         1.030000e+02, 2.750000e+00, 2.920000e+00, 3.200000e-01,\n",
              "         2.380000e+00, 6.200000e+00, 1.070000e+00, 2.750000e+00,\n",
              "         1.060000e+03],\n",
              "        [1.356000e+01, 1.710000e+00, 2.310000e+00, 1.620000e+01,\n",
              "         1.170000e+02, 3.150000e+00, 3.290000e+00, 3.400000e-01,\n",
              "         2.340000e+00, 6.130000e+00, 9.500000e-01, 3.380000e+00,\n",
              "         7.950000e+02],\n",
              "        [1.247000e+01, 1.520000e+00, 2.200000e+00, 1.900000e+01,\n",
              "         1.620000e+02, 2.500000e+00, 2.270000e+00, 3.200000e-01,\n",
              "         3.280000e+00, 2.600000e+00, 1.160000e+00, 2.630000e+00,\n",
              "         9.370000e+02],\n",
              "        [1.305000e+01, 2.050000e+00, 3.220000e+00, 2.500000e+01,\n",
              "         1.240000e+02, 2.630000e+00, 2.680000e+00, 4.700000e-01,\n",
              "         1.920000e+00, 3.580000e+00, 1.130000e+00, 3.200000e+00,\n",
              "         8.300000e+02],\n",
              "        [1.422000e+01, 3.990000e+00, 2.510000e+00, 1.320000e+01,\n",
              "         1.280000e+02, 3.000000e+00, 3.040000e+00, 2.000000e-01,\n",
              "         2.080000e+00, 5.100000e+00, 8.900000e-01, 3.530000e+00,\n",
              "         7.600000e+02],\n",
              "        [1.356000e+01, 1.730000e+00, 2.460000e+00, 2.050000e+01,\n",
              "         1.160000e+02, 2.960000e+00, 2.780000e+00, 2.000000e-01,\n",
              "         2.450000e+00, 6.250000e+00, 9.800000e-01, 3.030000e+00,\n",
              "         1.120000e+03],\n",
              "        [1.270000e+01, 3.550000e+00, 2.360000e+00, 2.150000e+01,\n",
              "         1.060000e+02, 1.700000e+00, 1.200000e+00, 1.700000e-01,\n",
              "         8.400000e-01, 5.000000e+00, 7.800000e-01, 1.290000e+00,\n",
              "         6.000000e+02],\n",
              "        [1.260000e+01, 1.340000e+00, 1.900000e+00, 1.850000e+01,\n",
              "         8.800000e+01, 1.450000e+00, 1.360000e+00, 2.900000e-01,\n",
              "         1.350000e+00, 2.450000e+00, 1.040000e+00, 2.770000e+00,\n",
              "         5.620000e+02],\n",
              "        [1.352000e+01, 3.170000e+00, 2.720000e+00, 2.350000e+01,\n",
              "         9.700000e+01, 1.550000e+00, 5.200000e-01, 5.000000e-01,\n",
              "         5.500000e-01, 4.350000e+00, 8.900000e-01, 2.060000e+00,\n",
              "         5.200000e+02],\n",
              "        [1.339000e+01, 1.770000e+00, 2.620000e+00, 1.610000e+01,\n",
              "         9.300000e+01, 2.850000e+00, 2.940000e+00, 3.400000e-01,\n",
              "         1.450000e+00, 4.800000e+00, 9.200000e-01, 3.220000e+00,\n",
              "         1.195000e+03],\n",
              "        [1.243000e+01, 1.530000e+00, 2.290000e+00, 2.150000e+01,\n",
              "         8.600000e+01, 2.740000e+00, 3.150000e+00, 3.900000e-01,\n",
              "         1.770000e+00, 3.940000e+00, 6.900000e-01, 2.840000e+00,\n",
              "         3.520000e+02],\n",
              "        [1.324000e+01, 3.980000e+00, 2.290000e+00, 1.750000e+01,\n",
              "         1.030000e+02, 2.640000e+00, 2.630000e+00, 3.200000e-01,\n",
              "         1.660000e+00, 4.360000e+00, 8.200000e-01, 3.000000e+00,\n",
              "         6.800000e+02],\n",
              "        [1.184000e+01, 8.900000e-01, 2.580000e+00, 1.800000e+01,\n",
              "         9.400000e+01, 2.200000e+00, 2.210000e+00, 2.200000e-01,\n",
              "         2.350000e+00, 3.050000e+00, 7.900000e-01, 3.080000e+00,\n",
              "         5.200000e+02],\n",
              "        [1.293000e+01, 3.800000e+00, 2.650000e+00, 1.860000e+01,\n",
              "         1.020000e+02, 2.410000e+00, 2.410000e+00, 2.500000e-01,\n",
              "         1.980000e+00, 4.500000e+00, 1.030000e+00, 3.520000e+00,\n",
              "         7.700000e+02],\n",
              "        [1.422000e+01, 1.700000e+00, 2.300000e+00, 1.630000e+01,\n",
              "         1.180000e+02, 3.200000e+00, 3.000000e+00, 2.600000e-01,\n",
              "         2.030000e+00, 6.380000e+00, 9.400000e-01, 3.310000e+00,\n",
              "         9.700000e+02],\n",
              "        [1.329000e+01, 1.970000e+00, 2.680000e+00, 1.680000e+01,\n",
              "         1.020000e+02, 3.000000e+00, 3.230000e+00, 3.100000e-01,\n",
              "         1.660000e+00, 6.000000e+00, 1.070000e+00, 2.840000e+00,\n",
              "         1.270000e+03],\n",
              "        [1.196000e+01, 1.090000e+00, 2.300000e+00, 2.100000e+01,\n",
              "         1.010000e+02, 3.380000e+00, 2.140000e+00, 1.300000e-01,\n",
              "         1.650000e+00, 3.210000e+00, 9.900000e-01, 3.130000e+00,\n",
              "         8.860000e+02],\n",
              "        [1.269000e+01, 1.530000e+00, 2.260000e+00, 2.070000e+01,\n",
              "         8.000000e+01, 1.380000e+00, 1.460000e+00, 5.800000e-01,\n",
              "         1.620000e+00, 3.050000e+00, 9.600000e-01, 2.060000e+00,\n",
              "         4.950000e+02],\n",
              "        [1.252000e+01, 2.430000e+00, 2.170000e+00, 2.100000e+01,\n",
              "         8.800000e+01, 2.550000e+00, 2.270000e+00, 2.600000e-01,\n",
              "         1.220000e+00, 2.000000e+00, 9.000000e-01, 2.780000e+00,\n",
              "         3.250000e+02],\n",
              "        [1.208000e+01, 1.390000e+00, 2.500000e+00, 2.250000e+01,\n",
              "         8.400000e+01, 2.560000e+00, 2.290000e+00, 4.300000e-01,\n",
              "         1.040000e+00, 2.900000e+00, 9.300000e-01, 3.190000e+00,\n",
              "         3.850000e+02],\n",
              "        [1.377000e+01, 1.900000e+00, 2.680000e+00, 1.710000e+01,\n",
              "         1.150000e+02, 3.000000e+00, 2.790000e+00, 3.900000e-01,\n",
              "         1.680000e+00, 6.300000e+00, 1.130000e+00, 2.930000e+00,\n",
              "         1.375000e+03],\n",
              "        [1.286000e+01, 1.350000e+00, 2.320000e+00, 1.800000e+01,\n",
              "         1.220000e+02, 1.510000e+00, 1.250000e+00, 2.100000e-01,\n",
              "         9.400000e-01, 4.100000e+00, 7.600000e-01, 1.290000e+00,\n",
              "         6.300000e+02],\n",
              "        [1.340000e+01, 3.910000e+00, 2.480000e+00, 2.300000e+01,\n",
              "         1.020000e+02, 1.800000e+00, 7.500000e-01, 4.300000e-01,\n",
              "         1.410000e+00, 7.300000e+00, 7.000000e-01, 1.560000e+00,\n",
              "         7.500000e+02],\n",
              "        [1.388000e+01, 1.890000e+00, 2.590000e+00, 1.500000e+01,\n",
              "         1.010000e+02, 3.250000e+00, 3.560000e+00, 1.700000e-01,\n",
              "         1.700000e+00, 5.430000e+00, 8.800000e-01, 3.560000e+00,\n",
              "         1.095000e+03],\n",
              "        [1.237000e+01, 1.630000e+00, 2.300000e+00, 2.450000e+01,\n",
              "         8.800000e+01, 2.220000e+00, 2.450000e+00, 4.000000e-01,\n",
              "         1.900000e+00, 2.120000e+00, 8.900000e-01, 2.780000e+00,\n",
              "         3.420000e+02],\n",
              "        [1.367000e+01, 1.250000e+00, 1.920000e+00, 1.800000e+01,\n",
              "         9.400000e+01, 2.100000e+00, 1.790000e+00, 3.200000e-01,\n",
              "         7.300000e-01, 3.800000e+00, 1.230000e+00, 2.460000e+00,\n",
              "         6.300000e+02],\n",
              "        [1.285000e+01, 1.600000e+00, 2.520000e+00, 1.780000e+01,\n",
              "         9.500000e+01, 2.480000e+00, 2.370000e+00, 2.600000e-01,\n",
              "         1.460000e+00, 3.930000e+00, 1.090000e+00, 3.630000e+00,\n",
              "         1.015000e+03],\n",
              "        [1.320000e+01, 1.780000e+00, 2.140000e+00, 1.120000e+01,\n",
              "         1.000000e+02, 2.650000e+00, 2.760000e+00, 2.600000e-01,\n",
              "         1.280000e+00, 4.380000e+00, 1.050000e+00, 3.400000e+00,\n",
              "         1.050000e+03],\n",
              "        [1.316000e+01, 3.570000e+00, 2.150000e+00, 2.100000e+01,\n",
              "         1.020000e+02, 1.500000e+00, 5.500000e-01, 4.300000e-01,\n",
              "         1.300000e+00, 4.000000e+00, 6.000000e-01, 1.680000e+00,\n",
              "         8.300000e+02],\n",
              "        [1.317000e+01, 2.590000e+00, 2.370000e+00, 2.000000e+01,\n",
              "         1.200000e+02, 1.650000e+00, 6.800000e-01, 5.300000e-01,\n",
              "         1.460000e+00, 9.300000e+00, 6.000000e-01, 1.620000e+00,\n",
              "         8.400000e+02],\n",
              "        [1.374000e+01, 1.670000e+00, 2.250000e+00, 1.640000e+01,\n",
              "         1.180000e+02, 2.600000e+00, 2.900000e+00, 2.100000e-01,\n",
              "         1.620000e+00, 5.850000e+00, 9.200000e-01, 3.200000e+00,\n",
              "         1.060000e+03],\n",
              "        [1.293000e+01, 2.810000e+00, 2.700000e+00, 2.100000e+01,\n",
              "         9.600000e+01, 1.540000e+00, 5.000000e-01, 5.300000e-01,\n",
              "         7.500000e-01, 4.600000e+00, 7.700000e-01, 2.310000e+00,\n",
              "         6.000000e+02],\n",
              "        [1.332000e+01, 3.240000e+00, 2.380000e+00, 2.150000e+01,\n",
              "         9.200000e+01, 1.930000e+00, 7.600000e-01, 4.500000e-01,\n",
              "         1.250000e+00, 8.420000e+00, 5.500000e-01, 1.620000e+00,\n",
              "         6.500000e+02],\n",
              "        [1.272000e+01, 1.810000e+00, 2.200000e+00, 1.880000e+01,\n",
              "         8.600000e+01, 2.200000e+00, 2.530000e+00, 2.600000e-01,\n",
              "         1.770000e+00, 3.900000e+00, 1.160000e+00, 3.140000e+00,\n",
              "         7.140000e+02],\n",
              "        [1.164000e+01, 2.060000e+00, 2.460000e+00, 2.160000e+01,\n",
              "         8.400000e+01, 1.950000e+00, 1.690000e+00, 4.800000e-01,\n",
              "         1.350000e+00, 2.800000e+00, 1.000000e+00, 2.750000e+00,\n",
              "         6.800000e+02],\n",
              "        [1.264000e+01, 1.360000e+00, 2.020000e+00, 1.680000e+01,\n",
              "         1.000000e+02, 2.020000e+00, 1.410000e+00, 5.300000e-01,\n",
              "         6.200000e-01, 5.750000e+00, 9.800000e-01, 1.590000e+00,\n",
              "         4.500000e+02],\n",
              "        [1.225000e+01, 4.720000e+00, 2.540000e+00, 2.100000e+01,\n",
              "         8.900000e+01, 1.380000e+00, 4.700000e-01, 5.300000e-01,\n",
              "         8.000000e-01, 3.850000e+00, 7.500000e-01, 1.270000e+00,\n",
              "         7.200000e+02],\n",
              "        [1.438000e+01, 3.590000e+00, 2.280000e+00, 1.600000e+01,\n",
              "         1.020000e+02, 3.250000e+00, 3.170000e+00, 2.700000e-01,\n",
              "         2.190000e+00, 4.900000e+00, 1.040000e+00, 3.440000e+00,\n",
              "         1.065000e+03],\n",
              "        [1.277000e+01, 2.390000e+00, 2.280000e+00, 1.950000e+01,\n",
              "         8.600000e+01, 1.390000e+00, 5.100000e-01, 4.800000e-01,\n",
              "         6.400000e-01, 9.899999e+00, 5.700000e-01, 1.630000e+00,\n",
              "         4.700000e+02],\n",
              "        [1.237000e+01, 1.130000e+00, 2.160000e+00, 1.900000e+01,\n",
              "         8.700000e+01, 3.500000e+00, 3.100000e+00, 1.900000e-01,\n",
              "         1.870000e+00, 4.450000e+00, 1.220000e+00, 2.870000e+00,\n",
              "         4.200000e+02],\n",
              "        [1.305000e+01, 1.730000e+00, 2.040000e+00, 1.240000e+01,\n",
              "         9.200000e+01, 2.720000e+00, 3.270000e+00, 1.700000e-01,\n",
              "         2.910000e+00, 7.200000e+00, 1.120000e+00, 2.910000e+00,\n",
              "         1.150000e+03],\n",
              "        [1.296000e+01, 3.450000e+00, 2.350000e+00, 1.850000e+01,\n",
              "         1.060000e+02, 1.390000e+00, 7.000000e-01, 4.000000e-01,\n",
              "         9.400000e-01, 5.280000e+00, 6.800000e-01, 1.750000e+00,\n",
              "         6.750000e+02],\n",
              "        [1.375000e+01, 1.730000e+00, 2.410000e+00, 1.600000e+01,\n",
              "         8.900000e+01, 2.600000e+00, 2.760000e+00, 2.900000e-01,\n",
              "         1.810000e+00, 5.600000e+00, 1.150000e+00, 2.900000e+00,\n",
              "         1.320000e+03],\n",
              "        [1.229000e+01, 1.410000e+00, 1.980000e+00, 1.600000e+01,\n",
              "         8.500000e+01, 2.550000e+00, 2.500000e+00, 2.900000e-01,\n",
              "         1.770000e+00, 2.900000e+00, 1.230000e+00, 2.740000e+00,\n",
              "         4.280000e+02],\n",
              "        [1.383000e+01, 1.650000e+00, 2.600000e+00, 1.720000e+01,\n",
              "         9.400000e+01, 2.450000e+00, 2.990000e+00, 2.200000e-01,\n",
              "         2.290000e+00, 5.600000e+00, 1.240000e+00, 3.370000e+00,\n",
              "         1.265000e+03],\n",
              "        [1.229000e+01, 2.830000e+00, 2.220000e+00, 1.800000e+01,\n",
              "         8.800000e+01, 2.450000e+00, 2.250000e+00, 2.500000e-01,\n",
              "         1.990000e+00, 2.150000e+00, 1.150000e+00, 3.300000e+00,\n",
              "         2.900000e+02],\n",
              "        [1.237000e+01, 1.070000e+00, 2.100000e+00, 1.850000e+01,\n",
              "         8.800000e+01, 3.520000e+00, 3.750000e+00, 2.400000e-01,\n",
              "         1.950000e+00, 4.500000e+00, 1.040000e+00, 2.770000e+00,\n",
              "         6.600000e+02],\n",
              "        [1.364000e+01, 3.100000e+00, 2.560000e+00, 1.520000e+01,\n",
              "         1.160000e+02, 2.700000e+00, 3.030000e+00, 1.700000e-01,\n",
              "         1.660000e+00, 5.100000e+00, 9.600000e-01, 3.360000e+00,\n",
              "         8.450000e+02]]),\n",
              " array([2, 1, 2, 1, 0, 1, 1, 0, 2, 0, 1, 2, 2, 0, 0, 1, 2, 1, 1, 2, 2, 2,\n",
              "        1, 0, 0, 0, 1, 1, 0, 1, 2, 1, 0, 0, 2, 1, 0, 2, 2, 2, 1, 1, 2, 2,\n",
              "        2, 1, 1, 1, 1, 1, 2, 1, 0, 1, 1, 1, 0, 0, 1, 0, 0, 2, 2, 0, 2, 0,\n",
              "        2, 1, 0, 1, 0, 2, 1, 1, 0, 1, 1, 1, 1, 0, 1, 1, 1, 2, 2, 0, 2, 0,\n",
              "        1, 0, 0, 2, 1, 1, 2, 0, 0, 0, 2, 1, 1, 0, 1, 2, 1, 2, 1, 1, 0, 1,\n",
              "        0, 0, 1, 1, 2, 0, 2, 1, 2, 0, 1, 2, 1, 1]),\n",
              " array([0, 1, 0, 0, 2, 2, 0, 0, 1, 0, 0, 0, 2, 1, 2, 0, 1, 0, 1, 0, 0, 0,\n",
              "        1, 1, 1, 1, 0, 2, 2, 0, 1, 1, 0, 0, 2, 2, 0, 2, 2, 1, 1, 1, 2, 0,\n",
              "        2, 1, 0, 2, 0, 1, 0, 1, 1, 0])]"
            ]
          },
          "metadata": {},
          "execution_count": 171
        }
      ]
    },
    {
      "cell_type": "code",
      "source": [
        "# 4つの要素をそれぞれ、変数X_train, X_test, y_train, y_testに代入し、学習データとテストデータが7:3に分割\n",
        "X_train, X_test, y_train, y_test = train_test_split(X, y, test_size=0.3, random_state=5)"
      ],
      "metadata": {
        "id": "J6YnVGsIXsRo"
      },
      "execution_count": 172,
      "outputs": []
    },
    {
      "cell_type": "code",
      "source": [
        "# 実際に7:3に分割されているか、レコード数を確認\n",
        "print(X.shape, X_train.shape, X_test.shape, y.shape, y_train.shape, y_test.shape)"
      ],
      "metadata": {
        "colab": {
          "base_uri": "https://localhost:8080/"
        },
        "id": "qUwRUO4HYAve",
        "outputId": "46e8238e-d8d3-4ff1-b291-aefeda8fcbaf"
      },
      "execution_count": 173,
      "outputs": [
        {
          "output_type": "stream",
          "name": "stdout",
          "text": [
            "(178, 13) (124, 13) (54, 13) (178,) (124,) (54,)\n"
          ]
        }
      ]
    },
    {
      "cell_type": "markdown",
      "source": [
        "# 3. 予測モデルのインスタンス化"
      ],
      "metadata": {
        "id": "RzF-Dwo0YEVY"
      }
    },
    {
      "cell_type": "code",
      "source": [
        "# ensembleモジュールのRandomForestClassifierクラスをインポート\n",
        "from sklearn.ensemble import RandomForestClassifier"
      ],
      "metadata": {
        "id": "T0rMilRBa0Nx"
      },
      "execution_count": 174,
      "outputs": []
    },
    {
      "cell_type": "code",
      "source": [
        "# scikit-learnを正しく活用できているかチェックできるよう、random_stateを指定\n",
        "model = RandomForestClassifier(random_state=3)\n",
        "# 以下のようにrandom_stateを指定しない場合、最終的に生成される予測モデルが実行毎に異なる可能性があります。これは、モデルの評価結果や予測結果が実行毎に変わってしまう可能性があること意味します。\n",
        "# model = RandomForestClassifier()"
      ],
      "metadata": {
        "id": "j9Mflnf8a0wl"
      },
      "execution_count": 175,
      "outputs": []
    },
    {
      "cell_type": "markdown",
      "source": [
        "# 4. 予測モデルの学習"
      ],
      "metadata": {
        "id": "JEwhi3LJYMvd"
      }
    },
    {
      "cell_type": "code",
      "source": [
        "# 説明変数X（ワインの成分）の学習データと目的変数y（ワインの種別）\n",
        "# 第1引数にX_trainを、第2引数にy_trainとして指定\n",
        "model.fit(X_train, y_train)"
      ],
      "metadata": {
        "colab": {
          "base_uri": "https://localhost:8080/",
          "height": 74
        },
        "id": "byMqhUMgYQHA",
        "outputId": "3dfabb15-8ac2-4097-851f-342070e183fd"
      },
      "execution_count": 176,
      "outputs": [
        {
          "output_type": "execute_result",
          "data": {
            "text/plain": [
              "RandomForestClassifier(random_state=3)"
            ],
            "text/html": [
              "<style>#sk-container-id-6 {color: black;background-color: white;}#sk-container-id-6 pre{padding: 0;}#sk-container-id-6 div.sk-toggleable {background-color: white;}#sk-container-id-6 label.sk-toggleable__label {cursor: pointer;display: block;width: 100%;margin-bottom: 0;padding: 0.3em;box-sizing: border-box;text-align: center;}#sk-container-id-6 label.sk-toggleable__label-arrow:before {content: \"▸\";float: left;margin-right: 0.25em;color: #696969;}#sk-container-id-6 label.sk-toggleable__label-arrow:hover:before {color: black;}#sk-container-id-6 div.sk-estimator:hover label.sk-toggleable__label-arrow:before {color: black;}#sk-container-id-6 div.sk-toggleable__content {max-height: 0;max-width: 0;overflow: hidden;text-align: left;background-color: #f0f8ff;}#sk-container-id-6 div.sk-toggleable__content pre {margin: 0.2em;color: black;border-radius: 0.25em;background-color: #f0f8ff;}#sk-container-id-6 input.sk-toggleable__control:checked~div.sk-toggleable__content {max-height: 200px;max-width: 100%;overflow: auto;}#sk-container-id-6 input.sk-toggleable__control:checked~label.sk-toggleable__label-arrow:before {content: \"▾\";}#sk-container-id-6 div.sk-estimator input.sk-toggleable__control:checked~label.sk-toggleable__label {background-color: #d4ebff;}#sk-container-id-6 div.sk-label input.sk-toggleable__control:checked~label.sk-toggleable__label {background-color: #d4ebff;}#sk-container-id-6 input.sk-hidden--visually {border: 0;clip: rect(1px 1px 1px 1px);clip: rect(1px, 1px, 1px, 1px);height: 1px;margin: -1px;overflow: hidden;padding: 0;position: absolute;width: 1px;}#sk-container-id-6 div.sk-estimator {font-family: monospace;background-color: #f0f8ff;border: 1px dotted black;border-radius: 0.25em;box-sizing: border-box;margin-bottom: 0.5em;}#sk-container-id-6 div.sk-estimator:hover {background-color: #d4ebff;}#sk-container-id-6 div.sk-parallel-item::after {content: \"\";width: 100%;border-bottom: 1px solid gray;flex-grow: 1;}#sk-container-id-6 div.sk-label:hover label.sk-toggleable__label {background-color: #d4ebff;}#sk-container-id-6 div.sk-serial::before {content: \"\";position: absolute;border-left: 1px solid gray;box-sizing: border-box;top: 0;bottom: 0;left: 50%;z-index: 0;}#sk-container-id-6 div.sk-serial {display: flex;flex-direction: column;align-items: center;background-color: white;padding-right: 0.2em;padding-left: 0.2em;position: relative;}#sk-container-id-6 div.sk-item {position: relative;z-index: 1;}#sk-container-id-6 div.sk-parallel {display: flex;align-items: stretch;justify-content: center;background-color: white;position: relative;}#sk-container-id-6 div.sk-item::before, #sk-container-id-6 div.sk-parallel-item::before {content: \"\";position: absolute;border-left: 1px solid gray;box-sizing: border-box;top: 0;bottom: 0;left: 50%;z-index: -1;}#sk-container-id-6 div.sk-parallel-item {display: flex;flex-direction: column;z-index: 1;position: relative;background-color: white;}#sk-container-id-6 div.sk-parallel-item:first-child::after {align-self: flex-end;width: 50%;}#sk-container-id-6 div.sk-parallel-item:last-child::after {align-self: flex-start;width: 50%;}#sk-container-id-6 div.sk-parallel-item:only-child::after {width: 0;}#sk-container-id-6 div.sk-dashed-wrapped {border: 1px dashed gray;margin: 0 0.4em 0.5em 0.4em;box-sizing: border-box;padding-bottom: 0.4em;background-color: white;}#sk-container-id-6 div.sk-label label {font-family: monospace;font-weight: bold;display: inline-block;line-height: 1.2em;}#sk-container-id-6 div.sk-label-container {text-align: center;}#sk-container-id-6 div.sk-container {/* jupyter's `normalize.less` sets `[hidden] { display: none; }` but bootstrap.min.css set `[hidden] { display: none !important; }` so we also need the `!important` here to be able to override the default hidden behavior on the sphinx rendered scikit-learn.org. See: https://github.com/scikit-learn/scikit-learn/issues/21755 */display: inline-block !important;position: relative;}#sk-container-id-6 div.sk-text-repr-fallback {display: none;}</style><div id=\"sk-container-id-6\" class=\"sk-top-container\"><div class=\"sk-text-repr-fallback\"><pre>RandomForestClassifier(random_state=3)</pre><b>In a Jupyter environment, please rerun this cell to show the HTML representation or trust the notebook. <br />On GitHub, the HTML representation is unable to render, please try loading this page with nbviewer.org.</b></div><div class=\"sk-container\" hidden><div class=\"sk-item\"><div class=\"sk-estimator sk-toggleable\"><input class=\"sk-toggleable__control sk-hidden--visually\" id=\"sk-estimator-id-6\" type=\"checkbox\" checked><label for=\"sk-estimator-id-6\" class=\"sk-toggleable__label sk-toggleable__label-arrow\">RandomForestClassifier</label><div class=\"sk-toggleable__content\"><pre>RandomForestClassifier(random_state=3)</pre></div></div></div></div></div>"
            ]
          },
          "metadata": {},
          "execution_count": 176
        }
      ]
    },
    {
      "cell_type": "markdown",
      "source": [
        "# 5. 予測モデルの評価"
      ],
      "metadata": {
        "id": "FTjUD-zDYUtQ"
      }
    },
    {
      "cell_type": "code",
      "source": [
        "# 説明変数X（ワインの成分）のテストデータから、ワインの種別を予測\n",
        "y_pred = model.predict(X_test)\n",
        "y_pred"
      ],
      "metadata": {
        "colab": {
          "base_uri": "https://localhost:8080/"
        },
        "id": "0TEzgD_4YWaz",
        "outputId": "9c42d8ea-c3e5-49b8-c5c7-8b54d369cc6e"
      },
      "execution_count": 177,
      "outputs": [
        {
          "output_type": "execute_result",
          "data": {
            "text/plain": [
              "array([0, 1, 0, 0, 2, 2, 0, 0, 1, 0, 0, 0, 2, 1, 2, 0, 1, 0, 1, 1, 0, 0,\n",
              "       1, 1, 1, 1, 0, 2, 2, 0, 1, 1, 0, 0, 2, 2, 0, 2, 2, 1, 1, 2, 2, 0,\n",
              "       2, 1, 0, 2, 0, 1, 0, 1, 1, 0])"
            ]
          },
          "metadata": {},
          "execution_count": 177
        }
      ]
    },
    {
      "cell_type": "code",
      "source": [
        "# 目的変数y（ワインの種別）のテストデータを確認\n",
        "y_test"
      ],
      "metadata": {
        "colab": {
          "base_uri": "https://localhost:8080/"
        },
        "id": "l5YtQ56XYcPE",
        "outputId": "4cbc86b4-4b93-4429-bd4d-d09b7d6e46e0"
      },
      "execution_count": 178,
      "outputs": [
        {
          "output_type": "execute_result",
          "data": {
            "text/plain": [
              "array([0, 1, 0, 0, 2, 2, 0, 0, 1, 0, 0, 0, 2, 1, 2, 0, 1, 0, 1, 0, 0, 0,\n",
              "       1, 1, 1, 1, 0, 2, 2, 0, 1, 1, 0, 0, 2, 2, 0, 2, 2, 1, 1, 1, 2, 0,\n",
              "       2, 1, 0, 2, 0, 1, 0, 1, 1, 0])"
            ]
          },
          "metadata": {},
          "execution_count": 178
        }
      ]
    },
    {
      "cell_type": "code",
      "source": [
        "# accuracy_score関数をインポート\n",
        "from sklearn.metrics import accuracy_score"
      ],
      "metadata": {
        "id": "nmDtcx5EYfBB"
      },
      "execution_count": 179,
      "outputs": []
    },
    {
      "cell_type": "code",
      "source": [
        "# 第1引数にテストデータであるy_testを、第2引数に予測値であるy_predをセット\n",
        "accuracy_score(y_test, y_pred)"
      ],
      "metadata": {
        "colab": {
          "base_uri": "https://localhost:8080/"
        },
        "id": "qvzwhKitYhAs",
        "outputId": "56cb0314-e2aa-4c0e-fd23-a1e2ec5ea9b4"
      },
      "execution_count": 180,
      "outputs": [
        {
          "output_type": "execute_result",
          "data": {
            "text/plain": [
              "0.9629629629629629"
            ]
          },
          "metadata": {},
          "execution_count": 180
        }
      ]
    },
    {
      "cell_type": "code",
      "source": [
        "# scoreメソッドを活用し、引数にはテストデータを指定\n",
        "# 第1引数にX_testを、第2引数にy_testをセット\n",
        "model.score(X_test, y_test)\n",
        "# 出力結果が「決定木」の場合から変わっていることを確認"
      ],
      "metadata": {
        "colab": {
          "base_uri": "https://localhost:8080/"
        },
        "id": "qtNuqJMWYjAf",
        "outputId": "f7929fa9-281f-412d-f29b-6b62f80d97a2"
      },
      "execution_count": 181,
      "outputs": [
        {
          "output_type": "execute_result",
          "data": {
            "text/plain": [
              "0.9629629629629629"
            ]
          },
          "metadata": {},
          "execution_count": 181
        }
      ]
    },
    {
      "cell_type": "markdown",
      "source": [
        "# 6. 予測"
      ],
      "metadata": {
        "id": "LEZnFS0GYtQN"
      }
    },
    {
      "cell_type": "code",
      "source": [
        "# 簡易的にダミーデータを作成\n",
        "import numpy as np\n",
        "\n",
        "X_real = np.array([\n",
        "    [13, 1.6, 2.2, 16, 118, 2.6, 2.9, 0.21, 1.6, 5.8, 0.92, 3.2, 1011],\n",
        "    [12, 2.8, 2.2, 18, 100, 2.5, 2.3, 0.25, 2.0, 2.2, 1.15, 3.3, 1000],\n",
        "    [14, 4.1, 2.7, 24, 101, 1.6, 0.7, 0.53, 1.4, 9.4, 0.61, 1.6, 560]])"
      ],
      "metadata": {
        "id": "HMW8WjE1YrqY"
      },
      "execution_count": 182,
      "outputs": []
    },
    {
      "cell_type": "code",
      "source": [
        "# 予測したいワインの成分データであるX_realを引数に指定して、predictメソッドを実行し\n",
        "model.predict(X_real)"
      ],
      "metadata": {
        "colab": {
          "base_uri": "https://localhost:8080/"
        },
        "id": "DywYeY_SYyko",
        "outputId": "fa443c17-ca5b-4327-cc82-f0b63e36f977"
      },
      "execution_count": 183,
      "outputs": [
        {
          "output_type": "execute_result",
          "data": {
            "text/plain": [
              "array([0, 1, 2])"
            ]
          },
          "metadata": {},
          "execution_count": 183
        }
      ]
    }
  ]
}
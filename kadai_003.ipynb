{
  "nbformat": 4,
  "nbformat_minor": 0,
  "metadata": {
    "colab": {
      "provenance": []
    },
    "kernelspec": {
      "name": "python3",
      "display_name": "Python 3"
    },
    "language_info": {
      "name": "python"
    }
  },
  "cells": [
    {
      "cell_type": "code",
      "execution_count": 3,
      "metadata": {
        "colab": {
          "base_uri": "https://localhost:8080/"
        },
        "id": "hTrMVcCvoCrj",
        "outputId": "834625e4-d589-494b-b7b5-7433c1103a00"
      },
      "outputs": [
        {
          "output_type": "stream",
          "name": "stdout",
          "text": [
            "行列の積:\n",
            "[[ 4  5  6  7]\n",
            " [12 17 22 27]\n",
            " [20 29 38 47]]\n",
            "行列の要素の最大値: 47\n"
          ]
        }
      ],
      "source": [
        "import numpy as np  # Step1: NumPyをインポートする\n",
        "\n",
        "# Step2: 行列AとBを多次元配列として定義\n",
        "A = np.array([[0, 1],\n",
        "              [2, 3],\n",
        "              [4, 5]])\n",
        "\n",
        "B = np.array([[0, 1, 2, 3],\n",
        "              [4, 5, 6, 7]])\n",
        "\n",
        "# Step3: 行列の積を計算\n",
        "result = np.dot(A, B)\n",
        "\n",
        "# Step4: 計算結果を表示\n",
        "print(\"行列の積:\")\n",
        "print(result)\n",
        "\n",
        "# Step5: 行列の要素の最大値を求める\n",
        "max_value = np.max(result)\n",
        "print(\"行列の要素の最大値:\", max_value)"
      ]
    }
  ]
}